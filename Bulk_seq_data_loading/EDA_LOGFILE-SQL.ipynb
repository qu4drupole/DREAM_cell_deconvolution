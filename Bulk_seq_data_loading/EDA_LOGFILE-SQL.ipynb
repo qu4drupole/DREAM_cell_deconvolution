{
 "cells": [
  {
   "cell_type": "markdown",
   "metadata": {},
   "source": [
    "## BULK DATA IMPORT ANALYTICS AND EXPLORATION"
   ]
  },
  {
   "cell_type": "code",
   "execution_count": 1,
   "metadata": {},
   "outputs": [],
   "source": [
    "import pandas as pd\n",
    "import numpy as np\n",
    "from sqlalchemy import create_engine\n",
    "import mysql.connector\n",
    "import re"
   ]
  },
  {
   "cell_type": "markdown",
   "metadata": {},
   "source": [
    "GENERAL IMPORT PROCESS\n",
    "\n",
    "1. DownloadData()\n",
    "2. formatCheck() or readFormat()\n",
    "3. GeneColumnName()\n",
    "4. makeGSEsampleIDs()\n",
    "5. geneConverter()\n",
    "6. popDataAndFormat()\n",
    "7. writeDataToSQL()\n",
    "\n",
    "...and there are other break points in the import process\n",
    "\n",
    "- How many of each type of function-specific error message occur?\n",
    "- What are the associated GSEs?"
   ]
  },
  {
   "cell_type": "code",
   "execution_count": 45,
   "metadata": {},
   "outputs": [],
   "source": [
    "#dictionary for error messages\n",
    "errorDict ={}"
   ]
  },
  {
   "cell_type": "code",
   "execution_count": 46,
   "metadata": {},
   "outputs": [],
   "source": [
    "fname = 'test_log.txt'\n",
    "logfile = open(fname,'r')"
   ]
  },
  {
   "cell_type": "code",
   "execution_count": 7,
   "metadata": {},
   "outputs": [
    {
     "data": {
      "text/plain": [
       "'--------------------------\\n'"
      ]
     },
     "execution_count": 7,
     "metadata": {},
     "output_type": "execute_result"
    }
   ],
   "source": [
    "logfile.readline()"
   ]
  },
  {
   "cell_type": "code",
   "execution_count": 8,
   "metadata": {},
   "outputs": [],
   "source": [
    "line = logfile.readline()"
   ]
  },
  {
   "cell_type": "code",
   "execution_count": 47,
   "metadata": {},
   "outputs": [],
   "source": [
    "# get function and GSE names\n",
    "for line in logfile:\n",
    "    if re.search('(\\(\\))',line):\n",
    "        funName = re.search('(\\D*\\(\\))',line).group(0).split(' ')[1]\n",
    "        gseID = re.search('\\(\\w+\\)',line).group(0)\n",
    "        gseID = re.sub('[\\(\\)]','',gseID)\n",
    "        if funName in errorDict.keys():\n",
    "            errorDict[funName].append(gseID)\n",
    "        else:\n",
    "            errorDict[funName] = []\n",
    "            errorDict[funName].append(gseID)\n",
    "logfile.close()"
   ]
  },
  {
   "cell_type": "code",
   "execution_count": 49,
   "metadata": {},
   "outputs": [
    {
     "name": "stdout",
     "output_type": "stream",
     "text": [
      "geneConverter()---23\n",
      "formatCheck()---111\n",
      "readFormat()---109\n",
      "writeDataToSQL()---44\n",
      "makeGSEsampleIDs()---134\n",
      "GeneColumnName()---38\n",
      "popDataAndFormat()---22\n",
      "dataCheck()---48\n",
      "DownloadData()---4\n"
     ]
    }
   ],
   "source": [
    "for fun in errorDict.keys():\n",
    "    print(fun+'---'+str(len(errorDict[fun])))"
   ]
  },
  {
   "cell_type": "code",
   "execution_count": 48,
   "metadata": {},
   "outputs": [
    {
     "data": {
      "text/plain": [
       "dict_keys(['geneConverter()', 'formatCheck()', 'readFormat()', 'writeDataToSQL()', 'makeGSEsampleIDs()', 'GeneColumnName()', 'popDataAndFormat()', 'dataCheck()', 'DownloadData()'])"
      ]
     },
     "execution_count": 48,
     "metadata": {},
     "output_type": "execute_result"
    }
   ],
   "source": [
    "errorDict.keys()"
   ]
  },
  {
   "cell_type": "code",
   "execution_count": 44,
   "metadata": {},
   "outputs": [],
   "source": [
    "logfile.close()"
   ]
  },
  {
   "cell_type": "code",
   "execution_count": null,
   "metadata": {},
   "outputs": [],
   "source": []
  }
 ],
 "metadata": {
  "kernelspec": {
   "display_name": "Python 3",
   "language": "python",
   "name": "python3"
  },
  "language_info": {
   "codemirror_mode": {
    "name": "ipython",
    "version": 3
   },
   "file_extension": ".py",
   "mimetype": "text/x-python",
   "name": "python",
   "nbconvert_exporter": "python",
   "pygments_lexer": "ipython3",
   "version": "3.7.3"
  }
 },
 "nbformat": 4,
 "nbformat_minor": 2
}
